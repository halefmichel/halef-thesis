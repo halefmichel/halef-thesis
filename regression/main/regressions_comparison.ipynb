{
 "cells": [
  {
   "metadata": {
    "ExecuteTime": {
     "end_time": "2024-05-12T17:41:55.373383Z",
     "start_time": "2024-05-12T17:41:55.192312Z"
    }
   },
   "cell_type": "code",
   "source": [
    "# Carregar pacotes necessários\n",
    "library(MASS)\n",
    "\n",
    "# Carregar os dados\n",
    "data <- read.csv(\"./main_rent_merge_2018ith_idh_wo_duplicates_2024_05_05_out.csv\", dec = \",\", header = TRUE, sep = \";\")\n",
    "\n",
    "# Definir as variáveis dependente e independentes\n",
    "y <- data$price_m2\n",
    "X <- data[, c(\"area_m2\", \"suite\", \"bathrooms\", \"garage\", \"condo_real\", \"metro_dist_km\", \"delta_cbd_farialima\", \"idh\", \"gym\", \"field_quadra\", \"elevator\", \"furnished\", \"swimming_pool\")]\n",
    "\n",
    "# Função para calcular o R² ajustado\n",
    "adjusted_r_squared <- function(model, n, k) {\n",
    "  1 - (1 - summary(model)$r.squared) * ((n - 1) / (n - k - 1))\n",
    "}\n",
    "\n",
    "# Função para aplicar a transformação de Box-Cox\n",
    "box_cox_transformation <- function(y, theta) {\n",
    "  if (theta == 0) {\n",
    "    return(log(y))\n",
    "  } else {\n",
    "    return((y^theta - 1) / theta)\n",
    "  }\n",
    "}\n",
    "\n",
    "# Testar diferentes combinações de theta e lambda\n",
    "theta_values <- c(-1, 0, 1)\n",
    "lambda_values <- c(-1, 0, 1)\n",
    "best_r_squared <- -Inf\n",
    "best_theta <- NA\n",
    "best_lambda <- NA\n",
    "\n",
    "for (theta in theta_values) {\n",
    "  y_transformed <- box_cox_transformation(y, theta)\n",
    "\n",
    "  for (lambda in lambda_values) {\n",
    "    X_transformed <- apply(X, 2, function(x) box_cox_transformation(x, lambda))\n",
    "\n",
    "    model <- lm(y_transformed ~ X_transformed)\n",
    "    n <- nrow(data)\n",
    "    k <- length(coef(model)) - 1\n",
    "    r_squared <- adjusted_r_squared(model, n, k)\n",
    "\n",
    "    if (r_squared > best_r_squared) {\n",
    "      best_r_squared <- r_squared\n",
    "      best_theta <- theta\n",
    "      best_lambda <- lambda\n",
    "    }\n",
    "  }\n",
    "}\n",
    "\n",
    "cat(\"Melhor R² ajustado:\", best_r_squared, \"\\n\")\n",
    "cat(\"Melhor valor de theta:\", best_theta, \"\\n\")\n",
    "cat(\"Melhor valor de lambda:\", best_lambda, \"\\n\")\n"
   ],
   "outputs": [
    {
     "ename": "ERROR",
     "evalue": "Error in lm.fit(x, y, offset = offset, singular.ok = singular.ok, ...): NA/NaN/Inf in 'x'\n",
     "output_type": "error",
     "traceback": [
      "Error in lm.fit(x, y, offset = offset, singular.ok = singular.ok, ...): NA/NaN/Inf in 'x'\nTraceback:\n",
      "1. lm(y_transformed ~ X_transformed)",
      "2. lm.fit(x, y, offset = offset, singular.ok = singular.ok, ...)"
     ]
    }
   ],
   "execution_count": 20
  },
  {
   "metadata": {},
   "cell_type": "code",
   "outputs": [],
   "execution_count": null,
   "source": ""
  }
 ],
 "metadata": {
  "accelerator": "GPU",
  "colab": {
   "collapsed_sections": [
    "cTSbgY539t4f",
    "GXkt_hv69ch5",
    "676-fZnQ98KY",
    "QayeFylW-F9O",
    "bZramecV-cbp"
   ],
   "gpuType": "T4",
   "provenance": []
  },
  "kernelspec": {
   "display_name": "R",
   "language": "R",
   "name": "ir"
  },
  "language_info": {
   "codemirror_mode": "r",
   "file_extension": ".r",
   "mimetype": "text/x-r-source",
   "name": "R",
   "pygments_lexer": "r",
   "version": "4.3.2"
  }
 },
 "nbformat": 4,
 "nbformat_minor": 4
}

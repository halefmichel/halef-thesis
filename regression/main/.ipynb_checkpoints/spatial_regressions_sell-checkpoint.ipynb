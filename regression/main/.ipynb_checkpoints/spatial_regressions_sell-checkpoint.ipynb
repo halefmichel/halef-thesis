{
 "cells": [
  {
   "metadata": {},
   "cell_type": "markdown",
   "source": [
    "# The Impact of Remote Work on São Paulo's Real Estate Market: A Spatial Regression Analysis of Price Dynamics\n",
    "This notebook has the objective of analyzing the impact of remote work on São Paulo's real estate market. The analysis focuses on the relationship between the teleworkability index and property prices in different districts of São Paulo. The study uses spatial regression models to account for spatial dependencies and commuting patterns between districts. The analysis is conducted for the years 2018 to 2021 to understand how the relationship between teleworkability and property prices has evolved over time."
   ]
  },
  {
   "cell_type": "markdown",
   "metadata": {},
   "source": [
    "### 1. Importing and Loading Required Libraries"
   ]
  },
  {
   "cell_type": "markdown",
   "metadata": {},
   "source": [
    "#### 1.1. Installing and Loading Required Packages\n",
    "This section installs and loads essential R packages for data analysis and visualization. The `stargazer` package is used for creating well-formatted tables. The `spatialreg` package is utilized for spatial regression analysis, and the `sf` package is used for spatial data manipulation. The `flextable` package is used for creating tables. The `spdep` package offers spatial dependence methods. The `tmap` package is used for thematic mapping, and `corrr` is for exploring correlations. The `ggplot2` package is used for visualization, and `ggcorrplot` creates correlation plots. The `car` package offers regression diagnostics, and `HH` provides additional statistical methods. Both `gridExtra` and `cowplot` help arrange multiple plots.\n",
    "\n"
   ]
  },
  {
   "cell_type": "code",
   "metadata": {
    "ExecuteTime": {
     "end_time": "2024-06-27T01:33:54.462369Z",
     "start_time": "2024-06-27T01:31:19.147583Z"
    }
   },
   "source": [
    "install.packages(c(\"stargazer\", \"spatialreg\", \"sf\", \"flextable\", \"spdep\", \"tmap\", \"corrr\", \"ggplot2\", \"ggcorrplot\", \"car\", \"HH\", \"gridExtra\", \"cowplot\", \"dplyr\"))\n",
    "library(stargazer)\n",
    "library(spatialreg)\n",
    "library(sf)\n",
    "library(flextable)\n",
    "library(spdep)\n",
    "library(tmap)\n",
    "library(corrr)\n",
    "library(ggplot2)\n",
    "library(ggcorrplot)\n",
    "library(car)\n",
    "library(HH)\n",
    "library(gridExtra)\n",
    "library(cowplot)\n",
    "library(dplyr) #for filter the data by year and remove outliers"
   ],
   "outputs": [
    {
     "name": "stderr",
     "output_type": "stream",
     "text": [
      "also installing the dependencies ‘terra’, ‘lwgeom’, ‘raster’, ‘classInt’, ‘units’, ‘tmaptools’, ‘stars’, ‘leaflet’, ‘leafsync’, ‘leafem’\n",
      "\n",
      "\n",
      "Updating HTML index of packages in '.Library'\n",
      "\n",
      "Making 'packages.html' ...\n",
      " done\n",
      "\n"
     ]
    },
    {
     "ename": "ERROR",
     "evalue": "Error in library(spatialreg): there is no package called ‘spatialreg’\n",
     "output_type": "error",
     "traceback": [
      "Error in library(spatialreg): there is no package called ‘spatialreg’\nTraceback:\n",
      "1. library(spatialreg)"
     ]
    }
   ],
   "execution_count": 249
  },
  {
   "cell_type": "markdown",
   "metadata": {},
   "source": [
    "---\n",
    "### 2. Data Preparation and Transformation"
   ]
  },
  {
   "cell_type": "markdown",
   "metadata": {},
   "source": [
    "#### 2.1. Reading the Main Data Frame\n",
    "Reading the data from the CSV file and displaying the first few rows to understand the structure of the data."
   ]
  },
  {
   "metadata": {
    "ExecuteTime": {
     "end_time": "2024-06-27T01:35:13.846615Z",
     "start_time": "2024-06-27T01:35:13.593131Z"
    }
   },
   "cell_type": "code",
   "source": "data_sell <- read.csv(\"/Users/karimmbk/Documents/halef-thesis/web-scraper/resources/clean-data/sell/sell_2018_2021.csv\", dec = \".\", header = TRUE, sep = \",\")",
   "outputs": [],
   "execution_count": 250
  },
  {
   "cell_type": "markdown",
   "metadata": {},
   "source": [
    "#### 2.2. Convert categorical variables to factors (dummy variables)\n",
    "Converting categorical variables to factors to use them in the regression model. The variables `gym`, `field_quadra`, `elevator`, `furnished`, and `swimming_pool` are dummy variables and thus need to be converted to factors."
   ]
  },
  {
   "cell_type": "code",
   "metadata": {
    "ExecuteTime": {
     "end_time": "2024-06-27T01:35:16.394308Z",
     "start_time": "2024-06-27T01:35:16.381647Z"
    }
   },
   "source": [
    "# Factorizing the categorical variables\n",
    "data_sell$gym <- as.factor(data_sell$gym)\n",
    "data_sell$field_quadra <- as.factor(data_sell$field_quadra)\n",
    "data_sell$elevator <- as.factor(data_sell$elevator)\n",
    "data_sell$furnished <- as.factor(data_sell$furnished)\n",
    "data_sell$swimming_pool <- as.factor(data_sell$swimming_pool)"
   ],
   "outputs": [],
   "execution_count": 251
  },
  {
   "cell_type": "markdown",
   "metadata": {},
   "source": [
    "#### 2.3. Convert date to date format\n",
    "Converting the date column to a date format to filter the data by year. The date column is in the format `dd/mm/yyyy`."
   ]
  },
  {
   "cell_type": "code",
   "metadata": {
    "ExecuteTime": {
     "end_time": "2024-06-27T01:35:18.766062Z",
     "start_time": "2024-06-27T01:35:18.691021Z"
    }
   },
   "source": "data_sell$date <- as.Date(data_sell$date, format = \"%d/%m/%Y\")",
   "outputs": [],
   "execution_count": 252
  },
  {
   "metadata": {},
   "cell_type": "markdown",
   "source": [
    "#### 2.4. Filter the data by year\n",
    "Filtering the data by year allows us to run the regression model for each year studied. We can understand the relationship between the variables over time by running the regression for each year. The study will focus on understanding how `price_m2` behaves with the variation of the `teleworkable` index over time."
   ]
  },
  {
   "metadata": {
    "ExecuteTime": {
     "end_time": "2024-06-27T01:35:21.876933Z",
     "start_time": "2024-06-27T01:35:21.856878Z"
    }
   },
   "cell_type": "code",
   "source": [
    "# Filtering the data by year to run the regression model for each year studied\n",
    "data_sell_2018 <- filter(data_sell, year == 2018)\n",
    "data_sell_2019 <- filter(data_sell, year == 2019)\n",
    "data_sell_2020 <- filter(data_sell, year == 2020)\n",
    "data_sell_2021 <- filter(data_sell, year == 2021)\n",
    "\n",
    "# Set the final data that will be used in the model\n",
    "data_sell_final <- data_sell_2018\n",
    "print(nrow(data_sell))\n",
    "print(nrow(data_sell_final))"
   ],
   "outputs": [
    {
     "name": "stdout",
     "output_type": "stream",
     "text": [
      "[1] 23902\n",
      "[1] 15573\n"
     ]
    }
   ],
   "execution_count": 253
  },
  {
   "metadata": {},
   "cell_type": "markdown",
   "source": [
    "#### 2.5. Data Cleaning\n",
    "This code defines a function to remove outliers from a DataFrame based on the interquartile range (IQR) method, specifically targeting the `price_m2` column. It calculates the IQR and uses it to filter out values that fall outside 1.5 times the IQR from the first and third quartiles. The filtered DataFrame is then returned, and the number of removed lines and final rows are printed."
   ]
  },
  {
   "metadata": {
    "ExecuteTime": {
     "end_time": "2024-06-27T01:35:24.577090Z",
     "start_time": "2024-06-27T01:35:24.541470Z"
    }
   },
   "cell_type": "code",
   "source": [
    "# Fuction to remove outliers\n",
    "remove_outliers <- function(df, column_name) {\n",
    "\n",
    "  # Defining the DataFrame to be cleaned\n",
    "  df_filtered <- df\n",
    "\n",
    "  # Removing outliers from the DataFrame using the IQR method\n",
    "  q1_preco_mes <- quantile(df$price_m2, 0.25, na.rm = TRUE)\n",
    "  q3_preco_mes <- quantile(df$price_m2, 0.75, na.rm = TRUE)\n",
    "  iqr_preco_mes <- q3_preco_mes - q1_preco_mes\n",
    "  lower_bound_preco_mes <- q1_preco_mes - 1.5 * iqr_preco_mes\n",
    "  upper_bound_preco_mes <- q3_preco_mes + 1.5 * iqr_preco_mes\n",
    "\n",
    "  # Using the price per square meter as the reference for the filter\n",
    "  df_filtered <- df_filtered[df_filtered$price_m2 >= lower_bound_preco_mes & df_filtered$price_m2 <= upper_bound_preco_mes,]\n",
    "\n",
    "  return(df_filtered)\n",
    "}\n",
    "\n",
    "df_filtered <- remove_outliers(data_sell_final, \"price_m2\")\n",
    "print(paste(\"Number of removed lines:\", nrow(data_sell_final) - nrow(df_filtered)))\n",
    "print(paste(\"Number of final rows:\", nrow(df_filtered)))"
   ],
   "outputs": [
    {
     "name": "stdout",
     "output_type": "stream",
     "text": [
      "[1] \"Number of removed lines: 558\"\n",
      "[1] \"Number of final rows: 15015\"\n"
     ]
    }
   ],
   "execution_count": 254
  },
  {
   "metadata": {},
   "cell_type": "markdown",
   "source": [
    "---\n",
    "### 3. Create the spatial weights matrix\n",
    "The calculation of the `teleworkability` index assumes that individuals work and reside in the same district. To address this issue, the main model will be re-estimated with a spatial econometric specification. This specification will include a spatial lag of the `teleworkability` index vector, utilizing a spatial weight matrix `commute_matrix` constructed from inter-district commuting flows. This approach will help control for the differing locations of employment and residences."
   ]
  },
  {
   "metadata": {},
   "cell_type": "markdown",
   "source": [
    "#### 3.1. Importing the Commute Matrix and Normalizing the Data\n",
    "This code imports a commute matrix from a CSV file and normalizes it to calculate the proportion of commuters between locations. The normalization transforms each entry to represent the proportion of commuters from one location relative to the total number of commuters from that location. This provides a clearer view of commuting patterns and relative flows between areas."
   ]
  },
  {
   "metadata": {
    "ExecuteTime": {
     "end_time": "2024-06-27T01:35:28.098563Z",
     "start_time": "2024-06-27T01:35:28.083446Z"
    }
   },
   "cell_type": "code",
   "source": [
    "# Import the commute matrix\n",
    "commute_matrix <- read.csv(\"/Users/karimmbk/Documents/halef-thesis/occupation/commute_matrix.csv\", dec = \".\", header = TRUE, sep = \",\") %>% as.matrix()\n",
    "\n",
    "# Normalize the data by dividing each row by the row sum to get the proportion of commuters\n",
    "commute_matrix_normalized <- sweep(commute_matrix, 1, rowSums(commute_matrix), \"/\")"
   ],
   "outputs": [],
   "execution_count": 255
  },
  {
   "metadata": {},
   "cell_type": "markdown",
   "source": [
    "#### 3.2. Import the Teleworkability Index Vector for Each Year\n",
    "This code imports the teleworkability index data for each year from 2018 to 2021 from CSV files. It then converts the `weighted_avg_teleworkable_score` column of each imported matrix into a numeric vector. These vectors represent the teleworkability index for different districts in São Paulo for each respective year."
   ]
  },
  {
   "metadata": {
    "ExecuteTime": {
     "end_time": "2024-06-27T01:35:31.190948Z",
     "start_time": "2024-06-27T01:35:31.175476Z"
    }
   },
   "cell_type": "code",
   "source": [
    "# Import the teleworkability index vector for each year and make it a numeric vector\n",
    "teleworkability_index_2018 <- read.csv(\"/Users/karimmbk/Documents/halef-thesis/occupation/teleworkability_district_SP_2018.csv\", dec = \".\", header = TRUE, sep = \",\") %>%  as.matrix()\n",
    "teleworkability_vector_2020 <- as.numeric(teleworkability_index_2018 [,6])\n",
    "teleworkability_index_2019 <- read.csv(\"/Users/karimmbk/Documents/halef-thesis/occupation/teleworkability_district_SP_2019.csv\", dec = \".\", header = TRUE, sep = \",\") %>% as.matrix()\n",
    "teleworkability_vector_2019 <- as.numeric(teleworkability_index_2019 [,6])\n",
    "teleworkability_index_2020 <- read.csv(\"/Users/karimmbk/Documents/halef-thesis/occupation/teleworkability_district_SP_2020.csv\", dec = \".\", header = TRUE, sep = \",\") %>% as.matrix()\n",
    "teleworkability_vector_2020 <- as.numeric(teleworkability_index_2020 [,6])\n",
    "teleworkability_index_2021 <- read.csv(\"/Users/karimmbk/Documents/halef-thesis/occupation/teleworkability_district_SP_2021.csv\", dec = \".\", header = TRUE, sep = \",\") %>% as.matrix()\n",
    "teleworkability_vector_2021 <- as.numeric(teleworkability_index_2021 [,6])"
   ],
   "outputs": [],
   "execution_count": 256
  },
  {
   "metadata": {},
   "cell_type": "markdown",
   "source": [
    "#### 3.3. Including the spacial lag of the teleworkability index in the model\n",
    "This code calculates the `spatial lag of the teleworkability index` for each year from 2018 to 2021. It multiplies the `normalized commute matrix` by the `teleworkability vector` for each year, resulting in a new vector that represents the `spatially lagged teleworkability index`, accounting for the influence of commuting patterns between districts."
   ]
  },
  {
   "metadata": {
    "ExecuteTime": {
     "end_time": "2024-06-27T01:35:34.039108Z",
     "start_time": "2024-06-27T01:35:34.030955Z"
    }
   },
   "cell_type": "code",
   "source": [
    "spatial_lag_teleworkability_2018 <- commute_matrix_normalized %*% teleworkability_vector_2018\n",
    "spatial_lag_teleworkability_2019 <- commute_matrix_normalized %*% teleworkability_vector_2019\n",
    "spatial_lag_teleworkability_2020 <- commute_matrix_normalized %*% teleworkability_vector_2020\n",
    "spatial_lag_teleworkability_2021 <- commute_matrix_normalized %*% teleworkability_vector_2021"
   ],
   "outputs": [],
   "execution_count": 257
  },
  {
   "metadata": {},
   "cell_type": "markdown",
   "source": "This code combines the `teleworkability index's first and third` columns (ID and year) with the `spatially lagged` teleworkability index for each year from 2018 to 2021. It creates a data frame for each year by first extracting the relevant columns (ID and year) from the original teleworkability index data, then binding these columns with the spatially lagged teleworkability index"
  },
  {
   "metadata": {
    "ExecuteTime": {
     "end_time": "2024-06-27T01:38:48.997931Z",
     "start_time": "2024-06-27T01:38:48.978782Z"
    }
   },
   "cell_type": "code",
   "source": [
    "teleworkability_index_2018_first_collunm <- as.data.frame(teleworkability_index_2018 [,c(1,3)])\n",
    "teleworkability_index_2018_matrix <- cbind(teleworkability_index_2018_first_collunm, spatial_lag_teleworkability_2018)\n",
    "colnames(teleworkability_index_2018_matrix) <- c(\"ID\", \"year\", \"teleworkability_adj\")\n",
    "teleworkability_index_2019_first_collunm <- as.data.frame(teleworkability_index_2019 [,c(1,3)])\n",
    "teleworkability_index_2019_matrix <- cbind(teleworkability_index_2019_first_collunm, spatial_lag_teleworkability_2019)\n",
    "colnames(teleworkability_index_2019_matrix) <- c(\"ID\", \"year\", \"teleworkability_adj\")\n",
    "teleworkability_index_2020_first_collunm <- as.data.frame(teleworkability_index_2020 [,c(1,3)])\n",
    "teleworkability_index_2020_matrix <- cbind(teleworkability_index_2020_first_collunm, spatial_lag_teleworkability_2020)\n",
    "colnames(teleworkability_index_2020_matrix) <- c(\"ID\", \"year\", \"teleworkability_adj\")\n",
    "teleworkability_index_2021_first_collunm <- as.data.frame(teleworkability_index_2021 [,c(1,3)])\n",
    "teleworkability_index_2021_matrix <- cbind(teleworkability_index_2021_first_collunm, spatial_lag_teleworkability_2021)\n",
    "colnames(teleworkability_index_2021_matrix) <- c(\"ID\", \"year\", \"teleworkability_adj\")"
   ],
   "outputs": [],
   "execution_count": 259
  },
  {
   "metadata": {},
   "cell_type": "markdown",
   "source": "This code combines the data frames containing the adjusted teleworkability index for each year from 2018 to 2021 into a single data frame. The `rbind` function is used to bind the rows of the yearly matrices together, and the resulting matrix is then converted into a data frame with `as.data.frame`. This consolidated data frame, `teleworkability_adj_matrix`, allows for comprehensive analysis across all years."
  },
  {
   "metadata": {
    "ExecuteTime": {
     "end_time": "2024-06-27T01:38:50.911231Z",
     "start_time": "2024-06-27T01:38:50.901794Z"
    }
   },
   "cell_type": "code",
   "source": [
    "teleworkability_adj_matrix <- rbind(teleworkability_index_2018_matrix, teleworkability_index_2019_matrix, teleworkability_index_2020_matrix, teleworkability_index_2021_matrix)\n",
    "teleworkability_adj_matrix <- as.data.frame(teleworkability_adj_matrix)"
   ],
   "outputs": [],
   "execution_count": 260
  },
  {
   "metadata": {},
   "cell_type": "markdown",
   "source": "This code prepares and merges two data frames by matching on the \"ID\" and \"year\" columns. First, it converts the \"ID\" and \"year\" columns in both `df_filtered` and `teleworkability_adj_matrix` to integer type. Then, it performs a left join to merge `teleworkability_adj_matrix` into `df_filtered` based on the \"ID\" and \"year\" columns, resulting in a combined data frame that includes the teleworkability adjusted index."
  },
  {
   "metadata": {
    "ExecuteTime": {
     "end_time": "2024-06-27T01:38:52.999836Z",
     "start_time": "2024-06-27T01:38:52.963745Z"
    }
   },
   "cell_type": "code",
   "source": [
    "df_filtered$ID <- as.integer(df_filtered$ID)\n",
    "teleworkability_adj_matrix$ID <- as.integer(teleworkability_adj_matrix$ID)\n",
    "df_filtered$year <- as.integer(df_filtered$year)\n",
    "teleworkability_adj_matrix$year <- as.integer(teleworkability_adj_matrix$year)\n",
    "df_filtered <- left_join(df_filtered, teleworkability_adj_matrix, by = c(\"ID\", \"year\"))"
   ],
   "outputs": [],
   "execution_count": 261
  },
  {
   "cell_type": "markdown",
   "metadata": {},
   "source": [
    "### 3. Model Specification and Fitting\n",
    " Analyzing the correlation between the variables to understand the relationship between them."
   ]
  },
  {
   "cell_type": "code",
   "metadata": {},
   "source": [
    "#corr_data <- data_sell_final[, (names(data_sell_final) %in% c(\"price_real_month\", \"area_m2\", \"bedrooms\", \"bathrooms\", \"garage\", \"condo_real\", \"metro_dist_km\", \"delta_cbd_farialima\", \"teleworkable\", \"inequality_meter\", \"suite\"))]\n",
    "\n",
    "# Compute correlation at 2 decimal places\n",
    "#corr_matrix <- round(cor(corr_data), 2)\n",
    "#ggcorrplot(corr_matrix, hc.order = TRUE, type = \"lower\", lab = TRUE)"
   ],
   "outputs": [],
   "execution_count": null
  },
  {
   "cell_type": "markdown",
   "metadata": {},
   "source": [
    "#### 3.1. Defining the Model parameters\n",
    "This subsection defines the formula for the regression model, specifying `price_m2` as the dependent variable and various property features as independent variables."
   ]
  },
  {
   "metadata": {},
   "cell_type": "code",
   "source": [
    "price_m2_log <- log(df_filtered$price_m2)\n",
    "area_m2_log <- log(df_filtered$area_m2)\n",
    "params <- (price_m2 ~ area_m2 +\n",
    "  bedrooms +\n",
    "  metro_dist_km +\n",
    "  delta_cbd_farialima +\n",
    "  inequality_meter +\n",
    "  teleworkable +\n",
    "  garage +\n",
    "  gym +\n",
    "  field_quadra +\n",
    "  elevator +\n",
    "  swimming_pool)\n",
    "\n",
    "#data_sell_final_2018 <- filter(data_sell_final, year(date) == 2018)\n",
    "reg <- lm(params, data = df_filtered)"
   ],
   "outputs": [],
   "execution_count": null
  },
  {
   "cell_type": "markdown",
   "metadata": {},
   "source": [
    "#### 3.2 Checking the results for the linear regression model\n",
    "Checking the results for the linear regression model to understand the relationship between the variables."
   ]
  },
  {
   "cell_type": "code",
   "metadata": {},
   "source": [
    "summary(reg)"
   ],
   "outputs": [],
   "execution_count": null
  },
  {
   "metadata": {},
   "cell_type": "markdown",
   "source": [
    "#### 3.1.1 Running the diagnostic tests\n",
    "Running the diagnostic tests to check the normality, heteroskedasticity, and autocorrelation of the residuals"
   ]
  },
  {
   "metadata": {},
   "cell_type": "code",
   "source": [
    "# Perform Shapiro-Wilk test\n",
    "residuals_best_model <- resid(reg)\n",
    "sample_size <- length(residuals_best_model)\n",
    "\n",
    "if (sample_size >= 3 && sample_size <= 5000) {\n",
    "  shapiro_test <- shapiro.test(residuals_best_model)\n",
    "  print(shapiro_test)\n",
    "  if (shapiro_test$p.value > 0.01) {\n",
    "    print(\"Pass: Residuals are normally distributed (fail to reject H0).\")\n",
    "  } else {\n",
    "    print(\"Residuals are not normally distributed (reject H0).\")\n",
    "  }\n",
    "} else {\n",
    "  print(\"Sample size out of range for Shapiro-Wilk test, using Anderson-Darling test instead.\")\n",
    "  ad_test <- ad.test(residuals_best_model)\n",
    "  print(ad_test)\n",
    "  if (ad_test$p.value > 0.01) {\n",
    "    print(\"Pass: Residuals are normally distributed (fail to reject H0).\")\n",
    "  } else {\n",
    "    print(\"Residuals are not normally distributed (reject H0).\")\n",
    "  }\n",
    "}\n",
    "\n",
    "# Perform Breusch-Pagan test\n",
    "bp_test <- bptest(reg)\n",
    "print(bp_test)\n",
    "if (bp_test$p.value < 0.01) {\n",
    "  print(\"Heteroskedasticity detected (reject H0).\")\n",
    "} else {\n",
    "  print(\"Pass: No heteroskedasticity detected (fail to reject H0).\")\n",
    "}\n",
    "\n",
    "# Perform Durbin-Watson test\n",
    "dw_test <- dwtest(reg)\n",
    "print(dw_test)\n",
    "dw_stat <- dw_test$statistic\n",
    "if (dw_stat < 1.5) {\n",
    "  print(\"Positive autocorrelation detected.\")\n",
    "} else if (dw_stat > 2.5) {\n",
    "  print(\"Negative autocorrelation detected.\")\n",
    "} else {\n",
    "  print(\"Pass: No autocorrelation detected.\")\n",
    "}"
   ],
   "outputs": [],
   "execution_count": null
  },
  {
   "metadata": {},
   "cell_type": "code",
   "source": "",
   "outputs": [],
   "execution_count": null
  }
 ],
 "metadata": {
  "accelerator": "GPU",
  "colab": {
   "collapsed_sections": [
    "cTSbgY539t4f",
    "GXkt_hv69ch5",
    "676-fZnQ98KY",
    "QayeFylW-F9O",
    "bZramecV-cbp"
   ],
   "gpuType": "T4",
   "provenance": []
  },
  "kernelspec": {
   "display_name": "R",
   "language": "R",
   "name": "ir"
  },
  "language_info": {
   "codemirror_mode": "r",
   "file_extension": ".r",
   "mimetype": "text/x-r-source",
   "name": "R",
   "pygments_lexer": "r",
   "version": "4.3.2"
  }
 },
 "nbformat": 4,
 "nbformat_minor": 4
}

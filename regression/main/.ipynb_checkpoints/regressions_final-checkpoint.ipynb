{
 "cells": [
  {
   "metadata": {},
   "cell_type": "code",
   "source": [
    "install.packages(\"ggcorrplot\")\n",
    "install.packages(\"car\")\n",
    "install.packages(\"HH\")\n",
    "# Load necessary libraries\n",
    "library(tidyverse)\n",
    "library(ggplot2)\n",
    "library(gridExtra)\n",
    "library(cowplot)\n",
    "library(ggcorrplot)\n",
    "library(car)\n",
    "library(HH)"
   ],
   "outputs": [],
   "execution_count": null
  },
  {
   "metadata": {},
   "cell_type": "markdown",
   "source": "### Reading the dataset"
  },
  {
   "metadata": {
    "ExecuteTime": {
     "end_time": "2024-05-25T17:57:28.147044Z",
     "start_time": "2024-05-25T17:57:27.885956Z"
    }
   },
   "cell_type": "code",
   "source": "data_rent <- read.csv(\"../../resources/clean-data/rent_2018_2023.csv\", dec = \",\", header = TRUE, sep = \";\")",
   "outputs": [],
   "execution_count": 1
  },
  {
   "metadata": {},
   "cell_type": "markdown",
   "source": "### Convert categorical variables to factors (dummy variables)"
  },
  {
   "metadata": {
    "ExecuteTime": {
     "end_time": "2024-05-25T17:57:50.118446Z",
     "start_time": "2024-05-25T17:57:50.038130Z"
    }
   },
   "cell_type": "code",
   "source": [
    "\n",
    "data_rent$gym <- as.factor(data_rent$gym)\n",
    "data_rent$field_quadra <- as.factor(data_rent$field_quadra)\n",
    "data_rent$elevator <- as.factor(data_rent$elevator)\n",
    "data_rent$furnished <- as.factor(data_rent$furnished)\n",
    "data_rent$swimming_pool <- as.factor(data_rent$swimming_pool)\n",
    "\n"
   ],
   "outputs": [],
   "execution_count": 2
  },
  {
   "metadata": {},
   "cell_type": "markdown",
   "source": "### Convert date to date format"
  },
  {
   "metadata": {},
   "cell_type": "code",
   "outputs": [],
   "execution_count": null,
   "source": "data_rent$date <- as.Date(data_rent$date, format = \"%d/%m/%Y\")"
  },
  {
   "metadata": {},
   "cell_type": "markdown",
   "source": ""
  },
  {
   "metadata": {},
   "cell_type": "code",
   "source": [
    "# filter data by year\n",
    "data_2018 <- filter(data_rent, year(date) == 2018)\n",
    "data_2019 <- filter(data_rent, year(date) == 2019)\n",
    "data_2020 <- filter(data_rent, year(date) == 2020)\n",
    "data_2021 <- filter(data_rent, year(date) == 2021)\n",
    "data_2022 <- filter(data_rent, year(date) == 2022)\n",
    "data_2023 <- filter(data_rent, year(date) == 2023)"
   ],
   "outputs": [],
   "execution_count": null
  },
  {
   "metadata": {},
   "cell_type": "code",
   "source": [
    "# defining the model parameters\n",
    "params <- (price_m2 ~ area_m2 +\n",
    "  suite +\n",
    "  bathrooms +\n",
    "  garage +\n",
    "  condo_real +\n",
    "  metro_dist_km +\n",
    "  delta_cbd_farialima +\n",
    "  idh +\n",
    "  gym +\n",
    "  field_quadra +\n",
    "  elevator +\n",
    "  furnished +\n",
    "  swimming_pool)"
   ],
   "outputs": [],
   "execution_count": null
  },
  {
   "metadata": {},
   "cell_type": "code",
   "source": [
    "# create linear regression models for each year\n",
    "reg <- lm(params, data = data_rent)\n",
    "reg_2018 <- lm(params, data = data_2018)\n",
    "reg_2019 <- lm(params, data = data_2019)\n",
    "reg_2020 <- lm(params, data = data_2020)\n",
    "reg_2021 <- lm(params, data = data_2021)\n",
    "reg_2022 <- lm(params, data = data_2022)\n",
    "reg_2023 <- lm(params, data = data_2023)"
   ],
   "outputs": [],
   "execution_count": null
  },
  {
   "metadata": {},
   "cell_type": "code",
   "source": [
    "reg_final <- reg\n",
    "data_rent_final <- data_rent\n",
    "print(nrow(data_rent_final))"
   ],
   "outputs": [],
   "execution_count": null
  },
  {
   "metadata": {},
   "cell_type": "code",
   "source": "summary(reg_final)",
   "outputs": [],
   "execution_count": null
  },
  {
   "metadata": {},
   "cell_type": "code",
   "source": [
    "outliers <- outlierTest(reg_final, cutoff = 100, n.max = Inf)\n",
    "print(outliers)\n",
    "# Get the row numbers of the outliers\n",
    "outlier_rows <- as.numeric(names(outliers$rstudent))\n",
    "print(length(outlier_rows))"
   ],
   "outputs": [],
   "execution_count": null
  },
  {
   "metadata": {},
   "cell_type": "code",
   "source": [
    "# print the outliers rows\n",
    "print(data_rent_final[outlier_rows, c(\"price_m2\",\"price_real_month\",\"area_m2\", \"delta_cbd_farialima\", \"delta_cbd_paulista\", \"metro_dist_km\")])\n",
    "summary(data_rent_final$price_m2)\n",
    "summary(data_rent_final$delta_cbd_farialima)"
   ],
   "outputs": [],
   "execution_count": null
  },
  {
   "metadata": {},
   "cell_type": "code",
   "source": [
    "# Remove the outlier rows from the dataframe\n",
    "data_rent_wo_outliers <- data_rent_final[-outlier_rows,]\n",
    "print(nrow(data_rent_final))\n",
    "print(nrow(data_rent_wo_outliers))\n",
    "reg_wo_outliers <- lm(params, data = data_rent_wo_outliers)\n",
    "summary(reg_wo_outliers)"
   ],
   "outputs": [],
   "execution_count": null
  },
  {
   "metadata": {},
   "cell_type": "code",
   "source": [
    "predicted<- predict(reg_wo_outliers)\n",
    "residuals <- resid(reg_wo_outliers)\n",
    "stand_predicted <- (predicted - mean(predicted)) / sd(predicted)\n",
    "stand_residuals <- (residuals - mean(residuals)) / sd(residuals)\n",
    "\n",
    "plot(stand_predicted, stand_residuals, main = \"Standardized residuals plot\", xlab = \"Standardized predicted value\", ylab = \"Standardized residuals\")\n",
    "abline(0, 0)\n",
    "\n",
    "hist(stand_residuals, freq = FALSE)\n",
    "curve(dnorm, add = TRUE)\n",
    "\n",
    "ncvTest(reg_wo_outliers)"
   ],
   "outputs": [],
   "execution_count": null
  },
  {
   "metadata": {},
   "cell_type": "code",
   "source": [
    "reduced_data <- data_rent_wo_outliers[, (names(data_rent_wo_outliers) %in% c(\"price_m2\", \"area_m2\", \"bedrooms\", \"suite\", \"bathrooms\", \"garage\", \"condo_real\", \"metro_dist_km\", \"delta_cbd_farialima\", \"delta_cbd_paulista\"))]\n",
    "\n",
    "# Compute correlation at 2 decimal places\n",
    "corr_matrix <- round(cor(reduced_data), 2)\n",
    "ggcorrplot(corr_matrix, hc.order = TRUE, type = \"lower\", lab = TRUE)"
   ],
   "outputs": [],
   "execution_count": null
  }
 ],
 "metadata": {
  "accelerator": "GPU",
  "colab": {
   "collapsed_sections": [
    "cTSbgY539t4f",
    "GXkt_hv69ch5",
    "676-fZnQ98KY",
    "QayeFylW-F9O",
    "bZramecV-cbp"
   ],
   "gpuType": "T4",
   "provenance": []
  },
  "kernelspec": {
   "display_name": "R",
   "language": "R",
   "name": "ir"
  },
  "language_info": {
   "codemirror_mode": "r",
   "file_extension": ".r",
   "mimetype": "text/x-r-source",
   "name": "R",
   "pygments_lexer": "r",
   "version": "4.3.2"
  }
 },
 "nbformat": 4,
 "nbformat_minor": 4
}

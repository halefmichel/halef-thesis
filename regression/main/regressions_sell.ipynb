{
 "cells": [
  {
   "cell_type": "markdown",
   "metadata": {},
   "source": [
    "### 1. Importing and Loading Required Libraries"
   ]
  },
  {
   "cell_type": "markdown",
   "metadata": {},
   "source": [
    "#### 1.1. Installing and Loading Required Packages\n",
    "This section installs and loads the essential R packages for data analysis and visualization. The `ggcorrplot` package creates correlation plots, `car` offers regression diagnostics, and `HH` provides additional statistical methods. The `tidyverse` is used for data manipulation, `ggplot2` for visualization, and both `gridExtra` and `cowplot` help arrange multiple plots."
   ]
  },
  {
   "cell_type": "code",
   "metadata": {
    "ExecuteTime": {
     "end_time": "2024-06-24T01:10:07.536092Z",
     "start_time": "2024-06-24T01:10:07.532605Z"
    }
   },
   "source": [
    "#install.packages(\"showtext\")\n",
    "#install.packages(\"ggcorrplot\")\n",
    "#install.packages(\"car\")\n",
    "#install.packages(\"HH\")\n",
    "#install.packages(\"lmtest\")\n",
    "#install.packages(\"nortest\")\n",
    "#install.packages(\"dplyr\")\n",
    "#install.packages(\"lubridate\")\n",
    "# Load necessary libraries\n",
    "#library(showtext)\n",
    "#library(tidyverse)\n",
    "#library(ggplot2)\n",
    "#library(gridExtra)\n",
    "#library(cowplot)\n",
    "#library(dplyr)\n",
    "#library(lubridate)\n",
    "#library(ggcorrplot)\n",
    "#library(car)\n",
    "#library(HH)\n",
    "#library(lmtest)\n",
    "#library(nortest)"
   ],
   "outputs": [],
   "execution_count": 70
  },
  {
   "cell_type": "markdown",
   "metadata": {},
   "source": [
    "### 2. Data Preparation and Transformation"
   ]
  },
  {
   "cell_type": "markdown",
   "metadata": {},
   "source": [
    "#### 2.1. Reading the Data\n",
    "Reading the data from the CSV file and displaying the first few rows to understand the structure of the data."
   ]
  },
  {
   "cell_type": "code",
   "metadata": {
    "ExecuteTime": {
     "end_time": "2024-06-24T01:10:07.668982Z",
     "start_time": "2024-06-24T01:10:07.561892Z"
    }
   },
   "source": "data_sell <- read.csv(\"/Users/karimmbk/Documents/halef-thesis/regression/resources/Result_8_out.csv\", dec = \".\", header = TRUE, sep = \",\")",
   "outputs": [],
   "execution_count": 71
  },
  {
   "cell_type": "markdown",
   "metadata": {},
   "source": [
    "#### 2.2. Convert categorical variables to factors (dummy variables)\n",
    "Converting categorical variables to factors to use them in the regression model."
   ]
  },
  {
   "cell_type": "code",
   "metadata": {
    "ExecuteTime": {
     "end_time": "2024-06-24T01:10:07.677992Z",
     "start_time": "2024-06-24T01:10:07.670552Z"
    }
   },
   "source": [
    "data_sell$gym <- as.factor(data_sell$gym)\n",
    "data_sell$field_quadra <- as.factor(data_sell$field_quadra)\n",
    "data_sell$elevator <- as.factor(data_sell$elevator)\n",
    "data_sell$furnished <- as.factor(data_sell$furnished)\n",
    "data_sell$swimming_pool <- as.factor(data_sell$swimming_pool)"
   ],
   "outputs": [],
   "execution_count": 72
  },
  {
   "cell_type": "markdown",
   "metadata": {},
   "source": [
    "#### 2.3. Convert date to date format\n",
    "Converting the date column to a date format to filter the data by year."
   ]
  },
  {
   "cell_type": "code",
   "metadata": {
    "ExecuteTime": {
     "end_time": "2024-06-24T01:10:07.759953Z",
     "start_time": "2024-06-24T01:10:07.679622Z"
    }
   },
   "source": "data_sell$date <- as.Date(data_sell$date, format = \"%d/%m/%Y\")",
   "outputs": [],
   "execution_count": 73
  },
  {
   "metadata": {},
   "cell_type": "markdown",
   "source": "#### 2.4. Filter the data by year"
  },
  {
   "metadata": {
    "ExecuteTime": {
     "end_time": "2024-06-24T01:10:07.772245Z",
     "start_time": "2024-06-24T01:10:07.761512Z"
    }
   },
   "cell_type": "code",
   "source": [
    "data_sell_2018 <- filter(data_sell, year == 2018)\n",
    "data_sell_2019 <- filter(data_sell, year == 2019)\n",
    "data_sell_2020 <- filter(data_sell, year == 2020)\n",
    "data_sell_2021 <- filter(data_sell, year == 2021)\n",
    "\n",
    "data_sell_final <- data_sell_2020\n",
    "print(nrow(data_sell))\n",
    "print(nrow(data_sell_final))"
   ],
   "outputs": [
    {
     "name": "stdout",
     "output_type": "stream",
     "text": [
      "[1] 32712\n",
      "[1] 2258\n"
     ]
    }
   ],
   "execution_count": 74
  },
  {
   "metadata": {
    "ExecuteTime": {
     "end_time": "2024-06-24T01:10:07.795363Z",
     "start_time": "2024-06-24T01:10:07.773703Z"
    }
   },
   "cell_type": "code",
   "source": [
    "remove_outliers <- function(df, column) {\n",
    "\n",
    "  # Inicializa o DataFrame filtrado como o original\n",
    "  df_filtered <- df\n",
    "\n",
    "  # Remoção de outliers na coluna preco_mes, se existir\n",
    "  q1_preco_mes <- quantile(df$price_m2, 0.25, na.rm = TRUE)\n",
    "  q3_preco_mes <- quantile(df$price_m2, 0.75, na.rm = TRUE)\n",
    "  iqr_preco_mes <- q3_preco_mes - q1_preco_mes\n",
    "  lower_bound_preco_mes <- q1_preco_mes - 1.5 * iqr_preco_mes\n",
    "  upper_bound_preco_mes <- q3_preco_mes + 1.5 * iqr_preco_mes\n",
    "\n",
    "  # Filtra o DataFrame para remover outliers de preco_mes\n",
    "  df_filtered <- df_filtered[df_filtered$price_m2 >= lower_bound_preco_mes & df_filtered$price_m2 <= upper_bound_preco_mes, ]\n",
    "\n",
    "  return(df_filtered)\n",
    "\n",
    "}\n",
    "\n",
    "df_filtered <- remove_outliers(data_sell_final, \"price_m2\")\n",
    "print(nrow(data_sell_final) - nrow(df_filtered))\n",
    "print(nrow(df_filtered))\n",
    "summary(df_filtered)"
   ],
   "outputs": [
    {
     "name": "stdout",
     "output_type": "stream",
     "text": [
      "[1] 59\n",
      "[1] 2199\n"
     ]
    },
    {
     "data": {
      "text/plain": [
       "    quarter           year           date               area_m2      \n",
       " Min.   :1.000   Min.   :2020   Min.   :2020-01-01   Min.   : 22.00  \n",
       " 1st Qu.:1.000   1st Qu.:2020   1st Qu.:2020-03-25   1st Qu.: 60.00  \n",
       " Median :2.000   Median :2020   Median :2020-06-25   Median : 73.00  \n",
       " Mean   :2.451   Mean   :2020   Mean   :2020-06-30   Mean   : 84.16  \n",
       " 3rd Qu.:3.500   3rd Qu.:2020   3rd Qu.:2020-09-27   3rd Qu.: 93.00  \n",
       " Max.   :4.000   Max.   :2020   Max.   :2020-12-31   Max.   :490.00  \n",
       "                                                                     \n",
       "    bedrooms         suite         bathrooms         garage     \n",
       " Min.   :1.000   Min.   :1.000   Min.   :1.000   Min.   :1.000  \n",
       " 1st Qu.:2.000   1st Qu.:1.000   1st Qu.:1.000   1st Qu.:1.000  \n",
       " Median :2.000   Median :1.000   Median :1.000   Median :2.000  \n",
       " Mean   :2.445   Mean   :1.095   Mean   :1.471   Mean   :2.007  \n",
       " 3rd Qu.:3.000   3rd Qu.:1.000   3rd Qu.:2.000   3rd Qu.:2.000  \n",
       " Max.   :6.000   Max.   :4.000   Max.   :4.000   Max.   :8.000  \n",
       "                 NA's   :1644    NA's   :256     NA's   :76     \n",
       " price_real_month     price_m2       condo_real     metro_dist_km      gym     \n",
       " Min.   : 149000   Min.   : 5000   Min.   :     1   Min.   : 0.05339   0:1505  \n",
       " 1st Qu.: 430000   1st Qu.: 6629   1st Qu.:   584   1st Qu.: 0.57051   1: 694  \n",
       " Median : 618000   Median : 8056   Median :   770   Median : 0.95365           \n",
       " Mean   : 735389   Mean   : 8539   Mean   :  3711   Mean   : 1.40971           \n",
       " 3rd Qu.: 881266   3rd Qu.:10000   3rd Qu.:  1006   3rd Qu.: 1.82655           \n",
       " Max.   :5500000   Max.   :15507   Max.   :760000   Max.   :10.79233           \n",
       "                                   NA's   :1622                                \n",
       " field_quadra elevator furnished swimming_pool delta_cbd_farialima\n",
       " 0:1725       0:1432   0:1925    0:1524        Min.   : 0.6695    \n",
       " 1: 474       1: 767   1: 274    1: 675        1st Qu.: 5.3939    \n",
       "                                               Median : 6.8774    \n",
       "                                               Mean   : 7.7241    \n",
       "                                               3rd Qu.: 9.4082    \n",
       "                                               Max.   :26.1875    \n",
       "                                                                  \n",
       " inequality_meter inequality_rank  teleworkable  \n",
       " Min.   :31.09    Min.   : 1      Min.   :0.066  \n",
       " 1st Qu.:49.28    1st Qu.:10      1st Qu.:0.139  \n",
       " Median :57.25    Median :18      Median :0.191  \n",
       " Mean   :56.50    Mean   :25      Mean   :0.203  \n",
       " 3rd Qu.:61.88    3rd Qu.:41      3rd Qu.:0.238  \n",
       " Max.   :72.41    Max.   :95      Max.   :0.491  \n",
       "                                                 "
      ]
     },
     "metadata": {},
     "output_type": "display_data"
    }
   ],
   "execution_count": 75
  },
  {
   "cell_type": "markdown",
   "metadata": {},
   "source": [
    "### 3. Model Specification and Fitting\n",
    " Analyzing the correlation between the variables to understand the relationship between them."
   ]
  },
  {
   "cell_type": "code",
   "metadata": {
    "ExecuteTime": {
     "end_time": "2024-06-24T01:10:07.799853Z",
     "start_time": "2024-06-24T01:10:07.796777Z"
    }
   },
   "source": [
    "#corr_data <- data_sell_final[, (names(data_sell_final) %in% c(\"price_real_month\", \"area_m2\", \"bedrooms\", \"bathrooms\", \"garage\", \"condo_real\", \"metro_dist_km\", \"delta_cbd_farialima\", \"teleworkable\", \"inequality_meter\", \"suite\"))]\n",
    "\n",
    "# Compute correlation at 2 decimal places\n",
    "#corr_matrix <- round(cor(corr_data), 2)\n",
    "#ggcorrplot(corr_matrix, hc.order = TRUE, type = \"lower\", lab = TRUE)"
   ],
   "outputs": [],
   "execution_count": 76
  },
  {
   "cell_type": "markdown",
   "metadata": {},
   "source": [
    "#### 3.1. Defining the Model parameters\n",
    "This subsection defines the formula for the regression model, specifying `price_m2` as the dependent variable and various property features as independent variables."
   ]
  },
  {
   "metadata": {
    "ExecuteTime": {
     "end_time": "2024-06-24T01:10:07.807445Z",
     "start_time": "2024-06-24T01:10:07.801253Z"
    }
   },
   "cell_type": "code",
   "source": [
    "price_m2_log <- log(df_filtered$price_m2)\n",
    "area_m2_log <- log(df_filtered$area_m2)\n",
    "params <- (price_m2 ~ area_m2 +\n",
    "        bedrooms +\n",
    "        metro_dist_km +\n",
    "        delta_cbd_farialima +\n",
    "        inequality_meter +\n",
    "        teleworkable +\n",
    "        garage +\n",
    "        gym +\n",
    "        field_quadra +\n",
    "        elevator +\n",
    "        swimming_pool)\n",
    "\n",
    "#data_sell_final_2018 <- filter(data_sell_final, year(date) == 2018)\n",
    "reg <- lm(params, data = df_filtered)"
   ],
   "outputs": [],
   "execution_count": 77
  },
  {
   "cell_type": "markdown",
   "metadata": {},
   "source": [
    "#### 3.2 Checking the results for the linear regression model\n",
    "Checking the results for the linear regression model to understand the relationship between the variables."
   ]
  },
  {
   "cell_type": "code",
   "metadata": {
    "ExecuteTime": {
     "end_time": "2024-06-24T01:10:07.814548Z",
     "start_time": "2024-06-24T01:10:07.808856Z"
    }
   },
   "source": [
    "summary(reg)"
   ],
   "outputs": [
    {
     "data": {
      "text/plain": [
       "\n",
       "Call:\n",
       "lm(formula = params, data = df_filtered)\n",
       "\n",
       "Residuals:\n",
       "    Min      1Q  Median      3Q     Max \n",
       "-5800.2 -1288.6  -195.6  1158.8  5748.6 \n",
       "\n",
       "Coefficients:\n",
       "                     Estimate Std. Error t value Pr(>|t|)    \n",
       "(Intercept)         8022.9395   430.9576  18.617  < 2e-16 ***\n",
       "area_m2                0.3598     1.3931   0.258  0.79619    \n",
       "bedrooms            -825.1786    77.4370 -10.656  < 2e-16 ***\n",
       "metro_dist_km       -138.5291    34.1237  -4.060 5.09e-05 ***\n",
       "delta_cbd_farialima -244.2393    14.2850 -17.098  < 2e-16 ***\n",
       "inequality_meter      45.0853     5.4920   8.209 3.83e-16 ***\n",
       "teleworkable        4209.4659   561.8768   7.492 9.93e-14 ***\n",
       "garage               608.9246    68.6545   8.869  < 2e-16 ***\n",
       "gym1                 625.8885   218.6729   2.862  0.00425 ** \n",
       "field_quadra1       -145.7537   142.7733  -1.021  0.30743    \n",
       "elevator1           -506.8195   164.2971  -3.085  0.00206 ** \n",
       "swimming_pool1       156.5781   226.5260   0.691  0.48951    \n",
       "---\n",
       "Signif. codes:  0 ‘***’ 0.001 ‘**’ 0.01 ‘*’ 0.05 ‘.’ 0.1 ‘ ’ 1\n",
       "\n",
       "Residual standard error: 1875 on 2111 degrees of freedom\n",
       "  (76 observations deleted due to missingness)\n",
       "Multiple R-squared:  0.4194,\tAdjusted R-squared:  0.4164 \n",
       "F-statistic: 138.6 on 11 and 2111 DF,  p-value: < 2.2e-16\n"
      ]
     },
     "metadata": {},
     "output_type": "display_data"
    }
   ],
   "execution_count": 78
  },
  {
   "metadata": {},
   "cell_type": "markdown",
   "source": [
    "#### 3.1.1 Running the diagnostic tests\n",
    "Running the diagnostic tests to check the normality, heteroskedasticity, and autocorrelation of the residuals"
   ]
  },
  {
   "metadata": {
    "ExecuteTime": {
     "end_time": "2024-06-24T01:10:07.830753Z",
     "start_time": "2024-06-24T01:10:07.815974Z"
    }
   },
   "cell_type": "code",
   "source": [
    "# Perform Shapiro-Wilk test\n",
    "residuals_best_model <- resid(reg)\n",
    "sample_size <- length(residuals_best_model)\n",
    "\n",
    "if (sample_size >= 3 && sample_size <= 5000) {\n",
    "  shapiro_test <- shapiro.test(residuals_best_model)\n",
    "  print(shapiro_test)\n",
    "  if (shapiro_test$p.value > 0.01) {\n",
    "    print(\"Pass: Residuals are normally distributed (fail to reject H0).\")\n",
    "  } else {\n",
    "    print(\"Residuals are not normally distributed (reject H0).\")\n",
    "  }\n",
    "} else {\n",
    "  print(\"Sample size out of range for Shapiro-Wilk test, using Anderson-Darling test instead.\")\n",
    "  ad_test <- ad.test(residuals_best_model)\n",
    "  print(ad_test)\n",
    "  if (ad_test$p.value > 0.01) {\n",
    "    print(\"Pass: Residuals are normally distributed (fail to reject H0).\")\n",
    "  } else {\n",
    "    print(\"Residuals are not normally distributed (reject H0).\")\n",
    "  }\n",
    "}\n",
    "\n",
    "# Perform Breusch-Pagan test\n",
    "bp_test <- bptest(reg)\n",
    "print(bp_test)\n",
    "if (bp_test$p.value < 0.01) {\n",
    "  print(\"Heteroskedasticity detected (reject H0).\")\n",
    "} else {\n",
    "  print(\"Pass: No heteroskedasticity detected (fail to reject H0).\")\n",
    "}\n",
    "\n",
    "# Perform Durbin-Watson test\n",
    "dw_test <- dwtest(reg)\n",
    "print(dw_test)\n",
    "dw_stat <- dw_test$statistic\n",
    "if (dw_stat < 1.5) {\n",
    "  print(\"Positive autocorrelation detected.\")\n",
    "} else if (dw_stat > 2.5) {\n",
    "  print(\"Negative autocorrelation detected.\")\n",
    "} else {\n",
    "  print(\"Pass: No autocorrelation detected.\")\n",
    "}"
   ],
   "outputs": [
    {
     "name": "stdout",
     "output_type": "stream",
     "text": [
      "\n",
      "\tShapiro-Wilk normality test\n",
      "\n",
      "data:  residuals_best_model\n",
      "W = 0.98833, p-value = 4.05e-12\n",
      "\n",
      "[1] \"Residuals are not normally distributed (reject H0).\"\n",
      "\n",
      "\tstudentized Breusch-Pagan test\n",
      "\n",
      "data:  reg\n",
      "BP = 324.41, df = 11, p-value < 2.2e-16\n",
      "\n",
      "[1] \"Heteroskedasticity detected (reject H0).\"\n",
      "\n",
      "\tDurbin-Watson test\n",
      "\n",
      "data:  reg\n",
      "DW = 1.1891, p-value < 2.2e-16\n",
      "alternative hypothesis: true autocorrelation is greater than 0\n",
      "\n",
      "[1] \"Positive autocorrelation detected.\"\n"
     ]
    }
   ],
   "execution_count": 79
  },
  {
   "metadata": {
    "ExecuteTime": {
     "end_time": "2024-06-24T01:10:07.835056Z",
     "start_time": "2024-06-24T01:10:07.832096Z"
    }
   },
   "cell_type": "code",
   "source": "",
   "outputs": [],
   "execution_count": 80
  }
 ],
 "metadata": {
  "accelerator": "GPU",
  "colab": {
   "collapsed_sections": [
    "cTSbgY539t4f",
    "GXkt_hv69ch5",
    "676-fZnQ98KY",
    "QayeFylW-F9O",
    "bZramecV-cbp"
   ],
   "gpuType": "T4",
   "provenance": []
  },
  "kernelspec": {
   "display_name": "R",
   "language": "R",
   "name": "ir"
  },
  "language_info": {
   "codemirror_mode": "r",
   "file_extension": ".r",
   "mimetype": "text/x-r-source",
   "name": "R",
   "pygments_lexer": "r",
   "version": "4.3.2"
  }
 },
 "nbformat": 4,
 "nbformat_minor": 4
}
